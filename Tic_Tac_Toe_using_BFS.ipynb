{
  "nbformat": 4,
  "nbformat_minor": 0,
  "metadata": {
    "colab": {
      "provenance": [],
      "authorship_tag": "ABX9TyOXLYlEdILXSvf//jS7p/1p",
      "include_colab_link": true
    },
    "kernelspec": {
      "name": "python3",
      "display_name": "Python 3"
    },
    "language_info": {
      "name": "python"
    }
  },
  "cells": [
    {
      "cell_type": "markdown",
      "metadata": {
        "id": "view-in-github",
        "colab_type": "text"
      },
      "source": [
        "<a href=\"https://colab.research.google.com/github/mohsinhasan502/Notary-Web-Application/blob/main/Tic_Tac_Toe_using_BFS.ipynb\" target=\"_parent\"><img src=\"https://colab.research.google.com/assets/colab-badge.svg\" alt=\"Open In Colab\"/></a>"
      ]
    },
    {
      "cell_type": "code",
      "execution_count": 2,
      "metadata": {
        "colab": {
          "base_uri": "https://localhost:8080/"
        },
        "id": "Exw986bn6UGY",
        "outputId": "a2a9917f-c080-49e3-9e61-fe302dcd5ae6"
      },
      "outputs": [
        {
          "output_type": "stream",
          "name": "stdout",
          "text": [
            "Player X wins!\n"
          ]
        }
      ],
      "source": [
        "from collections import deque\n",
        "\n",
        "# Function to check if the current state is a winning state\n",
        "def is_win(state, player):\n",
        "    # Check rows\n",
        "    for i in range(3):\n",
        "        if state[i][0] == state[i][1] == state[i][2] == player:\n",
        "            return True\n",
        "    # Check columns\n",
        "    for i in range(3):\n",
        "        if state[0][i] == state[1][i] == state[2][i] == player:\n",
        "            return True\n",
        "    # Check diagonals\n",
        "    if state[0][0] == state[1][1] == state[2][2] == player:\n",
        "        return True\n",
        "    if state[0][2] == state[1][1] == state[2][0] == player:\n",
        "        return True\n",
        "    return False\n",
        "\n",
        "# Function to check if the current state is a terminal state\n",
        "def is_terminal(state):\n",
        "    if is_win(state, 'X'):\n",
        "        return True, 'X'\n",
        "    if is_win(state, 'O'):\n",
        "        return True, 'O'\n",
        "    if all(all(cell != '' for cell in row) for row in state):\n",
        "        return True, None\n",
        "    return False, None\n",
        "\n",
        "# Function to get all possible next states from the current state\n",
        "def get_next_states(state, player):\n",
        "    next_states = []\n",
        "    for i in range(3):\n",
        "        for j in range(3):\n",
        "            if state[i][j] == '':\n",
        "                next_state = [row.copy() for row in state]\n",
        "                next_state[i][j] = player\n",
        "                next_states.append(next_state)\n",
        "    return next_states\n",
        "\n",
        "# Function to perform BFS search\n",
        "def bfs_search(initial_state):\n",
        "    queue = deque([(initial_state, 'X')])\n",
        "    visited = set()\n",
        "    while queue:\n",
        "        state, player = queue.popleft()\n",
        "        visited.add(str(state))\n",
        "        is_terminal_state, winner = is_terminal(state)\n",
        "        if is_terminal_state:\n",
        "            return winner\n",
        "        next_states = get_next_states(state, player)\n",
        "        for next_state in next_states:\n",
        "            if str(next_state) not in visited:\n",
        "                queue.append((next_state, 'O' if player == 'X' else 'X'))\n",
        "    return None\n",
        "\n",
        "# Example usage\n",
        "initial_state = [['', '', ''], ['', '', ''], ['', '', '']]\n",
        "winner = bfs_search(initial_state)\n",
        "if winner is not None:\n",
        "    print(f'Player {winner} wins!')\n",
        "else:\n",
        "    print('It\\'s a tie!')\n"
      ]
    }
  ]
}